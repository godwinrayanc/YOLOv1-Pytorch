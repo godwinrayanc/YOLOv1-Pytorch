{
  "nbformat": 4,
  "nbformat_minor": 0,
  "metadata": {
    "accelerator": "GPU",
    "colab": {
      "name": "yolo.ipynb",
      "provenance": [],
      "collapsed_sections": [
        "j_jnBmCuo2GA"
      ],
      "machine_shape": "hm"
    },
    "kernelspec": {
      "display_name": "Python 3",
      "name": "python3"
    },
    "language_info": {
      "name": "python"
    }
  },
  "cells": [
    {
      "cell_type": "markdown",
      "metadata": {
        "id": "jllEcB0vqrDa"
      },
      "source": [
        "### **YOLO v1 pytorch implementation**"
      ]
    },
    {
      "cell_type": "markdown",
      "metadata": {
        "id": "pXCVffMKX90v"
      },
      "source": [
        "**Clone repository**"
      ]
    },
    {
      "cell_type": "code",
      "metadata": {
        "colab": {
          "base_uri": "https://localhost:8080/"
        },
        "id": "JzpLbsbTYDcd",
        "outputId": "58e96885-ed10-48ff-9b94-bf10921c8fca"
      },
      "source": [
        "!git clone https://github.com/godwinrayanc/YOLOv1-Pytorch.git\n",
        "%cd /content/YOLOv1-Pytorch/pytorch-yolov1-trainval"
      ],
      "execution_count": null,
      "outputs": [
        {
          "output_type": "stream",
          "text": [
            "Cloning into 'YOLOv1-Pytorch'...\n",
            "remote: Enumerating objects: 119, done.\u001b[K\n",
            "remote: Counting objects: 100% (119/119), done.\u001b[K\n",
            "remote: Compressing objects: 100% (114/114), done.\u001b[K\n",
            "remote: Total 119 (delta 35), reused 14 (delta 1), pack-reused 0\u001b[K\n",
            "Receiving objects: 100% (119/119), 1.57 MiB | 9.68 MiB/s, done.\n",
            "Resolving deltas: 100% (35/35), done.\n",
            "/content/YOLOv1-Pytorch/pytorch-yolov1-trainval\n"
          ],
          "name": "stdout"
        }
      ]
    },
    {
      "cell_type": "markdown",
      "metadata": {
        "id": "Y4keVvfhW9Qz"
      },
      "source": [
        "**Importing stuff**"
      ]
    },
    {
      "cell_type": "markdown",
      "metadata": {
        "id": "uQZRRJ9mbcsG"
      },
      "source": [
        "Download the 4Gb archive.zip file from [here](https://https://www.kaggle.com/dataset/734b7bcb7ef13a045cbdd007a3c19874c2586ed0b02b4afc86126e89d00af8d2)"
      ]
    },
    {
      "cell_type": "markdown",
      "metadata": {
        "id": "7dDk32anXIgg"
      },
      "source": [
        "upload archive.zip to your drive and then unzip it using"
      ]
    },
    {
      "cell_type": "code",
      "metadata": {
        "colab": {
          "base_uri": "https://localhost:8080/"
        },
        "id": "hJQN2tiZiWZ7",
        "outputId": "db46306c-ddb7-4d46-9280-4815db5fd86a"
      },
      "source": [
        "!unzip -q -u \"/content/drive/MyDrive/archive.zip\" -d \"/content/YOLOv1-Pytorch/pytorch-yolov1-trainval/data\""
      ],
      "execution_count": null,
      "outputs": [
        {
          "output_type": "stream",
          "text": [
            "/content/drive/MyDrive/yolo\n"
          ],
          "name": "stdout"
        }
      ]
    },
    {
      "cell_type": "markdown",
      "metadata": {
        "id": "v6CBJLJRXxNQ"
      },
      "source": [
        "### **Train properly**"
      ]
    },
    {
      "cell_type": "markdown",
      "metadata": {
        "id": "ZBPLXM3GRT-n"
      },
      "source": [
        "**Import dependencies**"
      ]
    },
    {
      "cell_type": "code",
      "metadata": {
        "id": "qlJfdcTHRSY0"
      },
      "source": [
        "import math\n",
        "import csv\n",
        "import torch\n",
        "import torchvision.transforms as transforms\n",
        "import torch.optim as optim\n",
        "import torchvision.transforms.functional as FT\n",
        "from tqdm.notebook import tqdm\n",
        "from torch.utils.data import DataLoader\n",
        "from backbone import resnet50, vgg16\n",
        "from dataset import VOCDataset\n",
        "from pathlib import Path\n",
        "from utils import (\n",
        "    non_max_suppression,\n",
        "    mean_average_precision,\n",
        "    intersection_over_union,\n",
        "    cellboxes_to_boxes,\n",
        "    get_bboxes,\n",
        "    plot_image,\n",
        "    save_checkpoint,\n",
        "    load_checkpoint,\n",
        ")\n",
        "from loss import YoloLoss\n",
        "import datatrans\n",
        "\n",
        "seed = 123\n",
        "torch.manual_seed(seed)"
      ],
      "execution_count": null,
      "outputs": []
    },
    {
      "cell_type": "markdown",
      "metadata": {
        "id": "JBwUbo2hXsCx"
      },
      "source": [
        "**Set the hyperparameter values. Make sure to edit the path for saving the trained model**"
      ]
    },
    {
      "cell_type": "code",
      "metadata": {
        "colab": {
          "background_save": true
        },
        "id": "Sq2UqlSpMZkC"
      },
      "source": [
        "\n",
        "init_lr = 0.00002\n",
        "base_lr = 0.00008\n",
        "DEVICE = \"cuda\" if torch.cuda.is_available else \"cpu\"\n",
        "BATCH_SIZE = 32\n",
        "WEIGHT_DECAY = 5e-4\n",
        "EPOCHS = 40\n",
        "NUM_WORKERS = 4\n",
        "PIN_MEMORY = True\n",
        "SAVE_PATH = \"resnet50.pth\"\n",
        "IMG_DIR = \"data/images\"\n",
        "LABEL_DIR = \"data/labels\""
      ],
      "execution_count": null,
      "outputs": []
    },
    {
      "cell_type": "markdown",
      "metadata": {
        "id": "q5U5ygQHfOyE"
      },
      "source": [
        "**Laerning rate schedule implementation**"
      ]
    },
    {
      "cell_type": "code",
      "metadata": {
        "id": "Hk2IVM2wMZ_-"
      },
      "source": [
        "\n",
        "def update_lr(optimizer, epoch):\n",
        "    if epoch == 0:\n",
        "        lr = init_lr \n",
        "    elif epoch == 2:\n",
        "        lr = base_lr\n",
        "    elif epoch == 15:\n",
        "        lr = 0.00004\n",
        "    elif epoch == 25:\n",
        "        lr = 0.00002\n",
        "    else:\n",
        "        return\n",
        "\n",
        "    for param_group in optimizer.param_groups:\n",
        "        param_group['lr'] = lr\n",
        "\n",
        "def get_lr(optimizer):\n",
        "    for param_group in optimizer.param_groups:\n",
        "        return param_group['lr']"
      ],
      "execution_count": null,
      "outputs": []
    },
    {
      "cell_type": "markdown",
      "metadata": {
        "id": "yElurs2bfXmu"
      },
      "source": [
        "**Train function**"
      ]
    },
    {
      "cell_type": "code",
      "metadata": {
        "id": "ejNZqUcdMaLN"
      },
      "source": [
        "def train_fn(train_loader, model, optimizer, loss_fn, epoch):\n",
        "    loop = tqdm(train_loader, leave=True)\n",
        "    mean_loss = []\n",
        "\n",
        "    for batch_idx, (x, y) in enumerate(loop):\n",
        "        #Update learning rate.\n",
        "        update_lr(optimizer, epoch)\n",
        "        lr = get_lr(optimizer)\n",
        "\n",
        "        x, y = x.to(DEVICE), y.to(DEVICE)\n",
        "        out = model(x)\n",
        "        loss = loss_fn(out, y)\n",
        "        mean_loss.append(loss.item())\n",
        "        optimizer.zero_grad()\n",
        "        loss.backward()\n",
        "        optimizer.step()\n",
        "\n",
        "        # update progress bar\n",
        "        loop.set_postfix(loss=loss.item())\n",
        "        torch.cuda.empty_cache()\n",
        "\n",
        "    print(f\"Mean loss was {sum(mean_loss)/len(mean_loss)}\")"
      ],
      "execution_count": null,
      "outputs": []
    },
    {
      "cell_type": "markdown",
      "metadata": {
        "id": "rOsumU3RfeYy"
      },
      "source": [
        "**Main function**"
      ]
    },
    {
      "cell_type": "code",
      "metadata": {
        "id": "2SRlZSrBMaZI"
      },
      "source": [
        "def main():\n",
        "\n",
        "    #Choose model from backbone.py\n",
        "    model = resnet50(split_size=7, num_boxes=2, num_classes=20, pretrained = True).to(DEVICE)\n",
        "    print('Number of model parameters: {}'.format(sum([p.data.nelement() for p in resnet50.parameters()])))\n",
        "\n",
        "    optimizer = optim.Adam(model.parameters(), lr=init_lr, weight_decay=WEIGHT_DECAY)\n",
        "\n",
        "    loss_fn = YoloLoss()\n",
        "\n",
        "    #Load data into data loader\n",
        "    train_dataset = VOCDataset(\n",
        "        \"data/train.csv\",\n",
        "        transform=transform,\n",
        "        img_dir=IMG_DIR,\n",
        "        label_dir=LABEL_DIR)\n",
        "\n",
        "    val_dataset = VOCDataset(\n",
        "        \"data/validation.csv\", \n",
        "        transform=transform_test, \n",
        "        img_dir=IMG_DIR, \n",
        "        label_dir=LABEL_DIR)\n",
        "\n",
        "    train_loader = DataLoader(\n",
        "        dataset=train_dataset,\n",
        "        batch_size=BATCH_SIZE,\n",
        "        num_workers=NUM_WORKERS,\n",
        "        pin_memory=PIN_MEMORY,\n",
        "        shuffle=True,\n",
        "        drop_last=True,\n",
        "    )\n",
        "\n",
        "    val_loader = DataLoader(\n",
        "        dataset=val_dataset,\n",
        "        batch_size=BATCH_SIZE,\n",
        "        num_workers=NUM_WORKERS,\n",
        "        pin_memory=PIN_MEMORY,\n",
        "        shuffle=True,\n",
        "        drop_last=True,\n",
        "    )\n",
        "\n",
        "\n",
        "    #Create empty list to store accuracy values to plot later\n",
        "    acc_list = []\n",
        "    best_mAP = 0\n",
        "\n",
        "    #Start counting time\n",
        "    import time\n",
        "    start_full_time = time.time()\n",
        "\n",
        "    #Start training Loop\n",
        "    for epoch in range(EPOCHS):\n",
        "        start_time = time.time() \n",
        "        #Calculate Training mAP\n",
        "        pred_boxes, target_boxes = get_bboxes(train_loader, model, iou_threshold=0.5, threshold=0.4)\n",
        "        train_mAP = mean_average_precision(pred_boxes, target_boxes, \n",
        "                                  iou_threshold=0.5, box_format=\"midpoint\")\n",
        "        torch.cuda.empty_cache()\n",
        "        #Calculate Validation mAP\n",
        "        pred_boxes, target_boxes = get_bboxes(val_loader, model, iou_threshold=0.5, threshold=0.4)\n",
        "        val_mAP = mean_average_precision(pred_boxes, target_boxes, \n",
        "                                  iou_threshold=0.5, box_format=\"midpoint\")\n",
        "        torch.cuda.empty_cache()\n",
        "        print(f\"Epoch: {epoch}\" + \" |\" f\"Train mAP: {train_mAP}\" + \" |\" + f\"Validation mAP: {val_mAP}\")\n",
        "        \n",
        "        \n",
        "        #write losses to csv file\n",
        "        acc_list.append([epoch, train_mAP, val_mAP])\n",
        "        with open(\"resnet50.csv\", 'a') as f:\n",
        "          writer = csv.writer(f)\n",
        "          writer.writerow([epoch, train_mAP, val_mAP])\n",
        "        \n",
        "\n",
        "        #Update best mAP value\n",
        "        if val_mAP > 0.40 and val_mAP > best_mAP:\n",
        "            best_mAP = val_mAP\n",
        "            filename = str(epoch)+ SAVE_PATH\n",
        "            torch.save(model.state_dict(), filename)\n",
        "            \n",
        "            time.sleep(10)\n",
        "        \n",
        "        #Switch to training\n",
        "        model.train()\n",
        "\n",
        "        #Train network\n",
        "        train_fn(train_loader, model, optimizer, loss_fn, epoch)\n",
        "        torch.cuda.empty_cache()\n",
        "\n",
        "        #Demarcation\n",
        "        print(f\"time: {time.time() - start_time}\")\n",
        "        print(\"----------------------------------------\")\n",
        "        print(\"----------------------------------------\")\n",
        "\n",
        "\n",
        "    print(f\"Total_Time: {time.time() - start_full_time}\")   \n",
        "        \n",
        "\n",
        "\n",
        "if __name__ == \"__main__\":\n",
        "    main()"
      ],
      "execution_count": null,
      "outputs": []
    }
  ]
}